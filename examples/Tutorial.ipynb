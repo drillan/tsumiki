{
 "cells": [
  {
   "cell_type": "markdown",
   "metadata": {},
   "source": [
    "# Prerequisite"
   ]
  },
  {
   "cell_type": "markdown",
   "metadata": {},
   "source": [
    "import module"
   ]
  },
  {
   "cell_type": "code",
   "execution_count": 1,
   "metadata": {},
   "outputs": [],
   "source": [
    "import tsumiki"
   ]
  },
  {
   "cell_type": "markdown",
   "metadata": {},
   "source": [
    "the tsumiki cell magic extension can be loaded via:"
   ]
  },
  {
   "cell_type": "code",
   "execution_count": 2,
   "metadata": {},
   "outputs": [],
   "source": [
    "%load_ext tsumiki"
   ]
  },
  {
   "cell_type": "markdown",
   "metadata": {},
   "source": [
    "## Usage"
   ]
  },
  {
   "cell_type": "markdown",
   "metadata": {},
   "source": [
    "### Write with markdown."
   ]
  },
  {
   "cell_type": "code",
   "execution_count": 3,
   "metadata": {},
   "outputs": [
    {
     "data": {
      "text/html": [
       "<style>\n",
       ".columns1 {\n",
       "  margin-bottom: 10px;\n",
       "}\n",
       "</style>\n",
       "<div><h1>Title1</h1>\n",
       "<h2>Title2</h2>\n",
       "<h3>Title3</h3>\n",
       "<ul>\n",
       "<li>list1</li>\n",
       "<li>list2</li>\n",
       "<li><input disabled=\"disabled\" type=\"checkbox\" /> foo</li>\n",
       "<li><input checked=\"checked\" disabled=\"disabled\" type=\"checkbox\" /> bar</li>\n",
       "</ul></div>"
      ],
      "text/plain": [
       "<IPython.core.display.HTML object>"
      ]
     },
     "execution_count": 3,
     "metadata": {},
     "output_type": "execute_result"
    }
   ],
   "source": [
    "%%tsumiki\n",
    "\n",
    ":Markdown:\n",
    "\n",
    "# Title1\n",
    "## Title2\n",
    "### Title3\n",
    "\n",
    "- list1\n",
    "  - list2\n",
    "- [ ] foo\n",
    "- [x] bar"
   ]
  },
  {
   "cell_type": "markdown",
   "metadata": {},
   "source": [
    "### Write with  HTML"
   ]
  },
  {
   "cell_type": "code",
   "execution_count": 4,
   "metadata": {},
   "outputs": [
    {
     "data": {
      "text/html": [
       "<style>\n",
       ".columns1 {\n",
       "  margin-bottom: 10px;\n",
       "}\n",
       "</style>\n",
       "<div><font color=\"red\">Red</font>\n",
       "</br>\n",
       "<font color=\"green\">Green</font></div>"
      ],
      "text/plain": [
       "<IPython.core.display.HTML object>"
      ]
     },
     "execution_count": 4,
     "metadata": {},
     "output_type": "execute_result"
    }
   ],
   "source": [
    "%%tsumiki\n",
    "\n",
    ":HTML:\n",
    "<font color=\"red\">Red</font>\n",
    "</br>\n",
    "<font color=\"green\">Green</font>"
   ]
  },
  {
   "cell_type": "markdown",
   "metadata": {},
   "source": [
    "### Multiple columns\n",
    "\n",
    "Specify `:` as the number of columns."
   ]
  },
  {
   "cell_type": "code",
   "execution_count": 5,
   "metadata": {},
   "outputs": [
    {
     "data": {
      "text/html": [
       "<style>\n",
       ".columns2 {\n",
       "  -webkit-columns: 2;\n",
       "  -moz-columns: 2;\n",
       "  -ms-columns: 2;\n",
       "  columns: 2;\n",
       "}\n",
       "</style>\n",
       "<div class=\"columns2\">\n",
       "  \n",
       "    <div class=\"col1\">\n",
       "    <ul>\n",
       "<li>list1</li>\n",
       "<li>list2</li>\n",
       "</ul>\n",
       "    </div>\n",
       "  \n",
       "    <div class=\"col2\">\n",
       "    <ul>\n",
       "<li>list3</li>\n",
       "<li>list4</li>\n",
       "</ul>\n",
       "    </div>\n",
       "  \n",
       "</div>"
      ],
      "text/plain": [
       "<IPython.core.display.HTML object>"
      ]
     },
     "execution_count": 5,
     "metadata": {},
     "output_type": "execute_result"
    }
   ],
   "source": [
    "%%tsumiki\n",
    "\n",
    ":Markdown::\n",
    "* list1\n",
    "* list2\n",
    "\n",
    ":Markdown::\n",
    "* list3\n",
    "* list4"
   ]
  },
  {
   "cell_type": "markdown",
   "metadata": {},
   "source": [
    "### Write with mixed markup langueges."
   ]
  },
  {
   "cell_type": "code",
   "execution_count": 6,
   "metadata": {},
   "outputs": [
    {
     "data": {
      "text/html": [
       "<style>\n",
       ".columns1 {\n",
       "  margin-bottom: 10px;\n",
       "}\n",
       "</style>\n",
       "<div><h1>Title</h1></div>\n",
       "<style>\n",
       ".columns2 {\n",
       "  -webkit-columns: 2;\n",
       "  -moz-columns: 2;\n",
       "  -ms-columns: 2;\n",
       "  columns: 2;\n",
       "}\n",
       "</style>\n",
       "<div class=\"columns2\">\n",
       "  \n",
       "    <div class=\"col1\">\n",
       "    <font color=\"red\">Red</font>\n",
       "</br>\n",
       "<font color=\"green\">Green</font>\n",
       "    </div>\n",
       "  \n",
       "    <div class=\"col2\">\n",
       "    <ul>\n",
       "<li>list1</li>\n",
       "<li>list2</li>\n",
       "</ul>\n",
       "    </div>\n",
       "  \n",
       "</div>"
      ],
      "text/plain": [
       "<IPython.core.display.HTML object>"
      ]
     },
     "execution_count": 6,
     "metadata": {},
     "output_type": "execute_result"
    }
   ],
   "source": [
    "%%tsumiki\n",
    "\n",
    ":Markdown:\n",
    "# Title\n",
    "\n",
    ":HTML::\n",
    "<font color=\"red\">Red</font>\n",
    "</br>\n",
    "<font color=\"green\">Green</font>\n",
    "\n",
    ":Markdown::\n",
    "* list1\n",
    "* list2"
   ]
  },
  {
   "cell_type": "code",
   "execution_count": null,
   "metadata": {},
   "outputs": [],
   "source": []
  }
 ],
 "metadata": {
  "hide_input": false,
  "kernelspec": {
   "display_name": "Python 3",
   "language": "python",
   "name": "python3"
  },
  "language_info": {
   "codemirror_mode": {
    "name": "ipython",
    "version": 3
   },
   "file_extension": ".py",
   "mimetype": "text/x-python",
   "name": "python",
   "nbconvert_exporter": "python",
   "pygments_lexer": "ipython3",
   "version": "3.6.6"
  }
 },
 "nbformat": 4,
 "nbformat_minor": 2
}
